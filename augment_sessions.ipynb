{
  "nbformat": 4,
  "nbformat_minor": 0,
  "metadata": {
    "colab": {
      "name": "augment_sessions.ipynb",
      "version": "0.3.2",
      "provenance": [],
      "collapsed_sections": []
    },
    "kernelspec": {
      "name": "python3",
      "display_name": "Python 3"
    }
  },
  "cells": [
    {
      "metadata": {
        "id": "NGJP-imk8FG8",
        "colab_type": "code",
        "colab": {}
      },
      "cell_type": "code",
      "source": [
        "!apt-get update"
      ],
      "execution_count": 0,
      "outputs": []
    },
    {
      "metadata": {
        "id": "TIcztx4CujDz",
        "colab_type": "code",
        "colab": {}
      },
      "cell_type": "code",
      "source": [
        "from google.colab import auth\n",
        "auth.authenticate_user()"
      ],
      "execution_count": 0,
      "outputs": []
    },
    {
      "metadata": {
        "colab_type": "code",
        "id": "7J4sptmTumPh",
        "outputId": "017890c8-bd5c-4d97-f282-1cce4c3b89b7",
        "colab": {
          "base_uri": "https://localhost:8080/",
          "height": 121
        }
      },
      "cell_type": "code",
      "source": [
        "from google.colab import drive\n",
        "from google.colab import files\n",
        "import urllib.request\n",
        "import os\n",
        "import zipfile\n",
        "\n",
        "drive.mount('/drive')"
      ],
      "execution_count": 0,
      "outputs": [
        {
          "output_type": "stream",
          "text": [
            "Go to this URL in a browser: https://accounts.google.com/o/oauth2/auth?client_id=947318989803-6bn6qk8qdgf4n4g3pfee6491hc0brc4i.apps.googleusercontent.com&redirect_uri=urn%3Aietf%3Awg%3Aoauth%3A2.0%3Aoob&scope=email%20https%3A%2F%2Fwww.googleapis.com%2Fauth%2Fdocs.test%20https%3A%2F%2Fwww.googleapis.com%2Fauth%2Fdrive%20https%3A%2F%2Fwww.googleapis.com%2Fauth%2Fdrive.photos.readonly%20https%3A%2F%2Fwww.googleapis.com%2Fauth%2Fpeopleapi.readonly&response_type=code\n",
            "\n",
            "Enter your authorization code:\n",
            "··········\n",
            "Mounted at /drive\n"
          ],
          "name": "stdout"
        }
      ]
    },
    {
      "metadata": {
        "colab_type": "code",
        "id": "uIpV7H4-ultx",
        "outputId": "26623577-a8f5-4c56-c7d9-12bf87b86278",
        "colab": {
          "base_uri": "https://localhost:8080/",
          "height": 34
        }
      },
      "cell_type": "code",
      "source": [
        "!pwd"
      ],
      "execution_count": 0,
      "outputs": [
        {
          "output_type": "stream",
          "text": [
            "/content\n"
          ],
          "name": "stdout"
        }
      ]
    },
    {
      "metadata": {
        "colab_type": "code",
        "id": "YH35jU-_ulOa",
        "colab": {}
      },
      "cell_type": "code",
      "source": [
        "os.chdir(\"/drive/My Drive/\")"
      ],
      "execution_count": 0,
      "outputs": []
    },
    {
      "metadata": {
        "id": "I4kKMn5puHvX",
        "colab_type": "code",
        "colab": {}
      },
      "cell_type": "code",
      "source": [
        "os.chdir(\"/drive/My Drive/input_session_frames/\")"
      ],
      "execution_count": 0,
      "outputs": []
    },
    {
      "metadata": {
        "id": "PwA6d-Jxu2YN",
        "colab_type": "code",
        "outputId": "66c2b2d6-7d32-4031-ca5c-90c3aa76cff4",
        "colab": {
          "base_uri": "https://localhost:8080/",
          "height": 34
        }
      },
      "cell_type": "code",
      "source": [
        "!pwd"
      ],
      "execution_count": 0,
      "outputs": [
        {
          "output_type": "stream",
          "text": [
            "/drive/My Drive/input_session_frames\n"
          ],
          "name": "stdout"
        }
      ]
    },
    {
      "metadata": {
        "id": "SEY_QScbxZMS",
        "colab_type": "code",
        "colab": {}
      },
      "cell_type": "code",
      "source": [
        "import csv\n",
        "import pandas as pd\n",
        "import numpy as np\n",
        "import os"
      ],
      "execution_count": 0,
      "outputs": []
    },
    {
      "metadata": {
        "id": "Wr00KmZkU6Qu",
        "colab_type": "code",
        "colab": {}
      },
      "cell_type": "code",
      "source": [
        "def augment_data(data, tool):\n",
        "  result = []\n",
        "  file_name = ''\n",
        "  for i in range(1, len(data)):\n",
        "    if (i+2) <= (len(data) - 1):\n",
        "        row1 = data.iloc[i, :]\n",
        "        row2 = data.iloc[i+1, :]\n",
        "        row3 = data.iloc[i+2, :]\n",
        "        \n",
        "        l = []\n",
        "        l.append(row1[0])\n",
        "        l.append(row1[1])\n",
        "        l.append(row1[2])\n",
        "        l.append(row1[3])\n",
        "        \n",
        "        if tool == 'mean':\n",
        "          file_name = 'a'\n",
        "          for j in range(4, len(row1)):\n",
        "            l.append(round(((float(row1[j]) + float(row2[j]) + float(row3[j]))/3),3))  \n",
        "        \n",
        "        if tool == 'median':\n",
        "          file_name = 'b'\n",
        "          for j in range(4, len(row1)):\n",
        "            l.append(round(float(row2[j]),3))\n",
        "            \n",
        "        if tool == 'maximum':\n",
        "          file_name = 'c'\n",
        "          for j in range(4, len(row1)):\n",
        "            l.append(round( max( float(row1[j]), max( float(row2[j]), float(row3[j]) ) )  ,3))\n",
        "        \n",
        "        result.append(l)\n",
        "      \n",
        "    else:\n",
        "      new_i = i\n",
        "      while(new_i < len(data)):\n",
        "        result.append(data.iloc[new_i])\n",
        "        new_i = new_i + 1\n",
        "\n",
        "  return (result, file_name) "
      ],
      "execution_count": 0,
      "outputs": []
    },
    {
      "metadata": {
        "id": "qUOkazrtVH-q",
        "colab_type": "code",
        "colab": {}
      },
      "cell_type": "code",
      "source": [
        "tools = ['mean', 'median', 'maximum']"
      ],
      "execution_count": 0,
      "outputs": []
    },
    {
      "metadata": {
        "id": "ymGOoqZc0qNq",
        "colab_type": "code",
        "outputId": "87da881b-b47e-4493-b5f3-1e9ed671e5fd",
        "colab": {
          "base_uri": "https://localhost:8080/",
          "height": 84
        }
      },
      "cell_type": "code",
      "source": [
        "!ls"
      ],
      "execution_count": 0,
      "outputs": [
        {
          "output_type": "stream",
          "text": [
            "augment_frames\t\tfiles\t       lr_plot.png\t\tnew_labels.xlsx\n",
            "augment_sessions.ipynb\tlabels.csv     modified_labels.csv\ttemp_image\n",
            "Done\t\t\tlabels.gsheet  new_frames\n",
            "Error\t\t\tlabels.ods     new_labels_removed.xlsx\n"
          ],
          "name": "stdout"
        }
      ]
    },
    {
      "metadata": {
        "id": "BiVi-PwHtBxQ",
        "colab_type": "code",
        "colab": {}
      },
      "cell_type": "code",
      "source": [
        "labels_one_sessions = []\n",
        "with open('labels.csv', 'r') as infile:\n",
        "  infile.readline()\n",
        "  for line in infile.readlines():\n",
        "    token = line.strip().split(\",\")\n",
        "    if token[1] == '1':\n",
        "      labels_one_sessions.append(token[0])"
      ],
      "execution_count": 0,
      "outputs": []
    },
    {
      "metadata": {
        "id": "GRnn9Nly1Xy3",
        "colab_type": "code",
        "outputId": "5c9d6c5a-2b5f-4b7d-9774-0ddc7c09a896",
        "colab": {
          "base_uri": "https://localhost:8080/",
          "height": 34
        }
      },
      "cell_type": "code",
      "source": [
        "print (len(labels_one_sessions))"
      ],
      "execution_count": 0,
      "outputs": [
        {
          "output_type": "stream",
          "text": [
            "42\n"
          ],
          "name": "stdout"
        }
      ]
    },
    {
      "metadata": {
        "id": "nl0vEQRmvO-l",
        "colab_type": "code",
        "colab": {}
      },
      "cell_type": "code",
      "source": [
        "for l in labels_one_sessions:\n",
        "  \n",
        "  csvfile_name = str(l) + \"_final_frames.csv\"\n",
        "  print (csvfile_name)\n",
        "  \n",
        "  if os.path.exists(\"./new_frames/\" + str(csvfile_name)):\n",
        "    data = pd.read_csv(\"./new_frames/\" + str(csvfile_name) )\n",
        "    print (len(data))\n",
        "    \n",
        "  else:\n",
        "    print (l)\n",
        "    continue\n",
        "  \n",
        "  for t in tools:\n",
        "    (res, name) = augment_data(data, t)\n",
        "\n",
        "    res = np.array(res)\n",
        "    print (res.shape)\n",
        "\n",
        "    df = pd.DataFrame(res)\n",
        "    df.to_csv('/drive/My Drive/input_session_frames/augment_frames/' + str(csvfile_name[:-4]) + \"_final_frames_\" + str(name) + \".csv\" , index = False)\n",
        "\n",
        "  "
      ],
      "execution_count": 0,
      "outputs": []
    },
    {
      "metadata": {
        "id": "ReK6QLfzyhJI",
        "colab_type": "code",
        "outputId": "70f34d72-5cb1-435b-aee7-4bd6919d02ea",
        "colab": {
          "base_uri": "https://localhost:8080/",
          "height": 34
        }
      },
      "cell_type": "code",
      "source": [
        "res = []\n",
        "for file in os.listdir('./augment_frames'):\n",
        "  res.append(file[0:3])\n",
        "  \n",
        "print (len(res), len(set(res)))"
      ],
      "execution_count": 0,
      "outputs": [
        {
          "output_type": "stream",
          "text": [
            "126 42\n"
          ],
          "name": "stdout"
        }
      ]
    },
    {
      "metadata": {
        "id": "P-HccwYIG9Aj",
        "colab_type": "code",
        "colab": {}
      },
      "cell_type": "code",
      "source": [
        "l = [i for i in labels_one_sessions if i not in set(res)]"
      ],
      "execution_count": 0,
      "outputs": []
    },
    {
      "metadata": {
        "id": "a24BdgBVHBzp",
        "colab_type": "code",
        "outputId": "329e0133-a03d-400c-c89b-abeebc2750dc",
        "colab": {
          "base_uri": "https://localhost:8080/",
          "height": 689
        }
      },
      "cell_type": "code",
      "source": [
        "for session in l:\n",
        "  csvfile_name = str(session) + \"_final_frames.csv\"\n",
        "  print (csvfile_name)\n",
        "  \n",
        "  if os.path.exists(\"./missed_one_sessions/\" + str(csvfile_name)):\n",
        "    data = pd.read_csv(\"./missed_one_sessions/\" + str(csvfile_name) )\n",
        "    print (len(data))\n",
        "    \n",
        "  else:\n",
        "    print (l)\n",
        "    continue\n",
        "  \n",
        "  for t in tools:\n",
        "    (res, name) = augment_data(data, t)\n",
        "\n",
        "    res = np.array(res)\n",
        "    print (res.shape)\n",
        "\n",
        "    df = pd.DataFrame(res)\n",
        "    df.to_csv('/drive/My Drive/input_session_frames/augment_frames/' + str(csvfile_name[:-4]) + \"_final_frames_\" + str(name) + \".csv\" , index = False)\n"
      ],
      "execution_count": 0,
      "outputs": [
        {
          "output_type": "stream",
          "text": [
            "319_final_frames.csv\n",
            "6000\n",
            "(6000, 208)\n",
            "(6000, 208)\n",
            "(6000, 208)\n",
            "320_final_frames.csv\n",
            "6000\n",
            "(6000, 208)\n",
            "(6000, 208)\n",
            "(6000, 208)\n",
            "321_final_frames.csv\n",
            "6000\n",
            "(6000, 208)\n",
            "(6000, 208)\n",
            "(6000, 208)\n",
            "335_final_frames.csv\n",
            "6000\n",
            "(6000, 208)\n",
            "(6000, 208)\n",
            "(6000, 208)\n",
            "346_final_frames.csv\n",
            "6000\n",
            "(6000, 208)\n",
            "(6000, 208)\n",
            "(6000, 208)\n",
            "367_final_frames.csv\n",
            "6000\n",
            "(6000, 208)\n",
            "(6000, 208)\n",
            "(6000, 208)\n",
            "377_final_frames.csv\n",
            "6000\n",
            "(6000, 208)\n",
            "(6000, 208)\n",
            "(6000, 208)\n",
            "381_final_frames.csv\n",
            "6000\n",
            "(6000, 208)\n",
            "(6000, 208)\n",
            "(6000, 208)\n"
          ],
          "name": "stdout"
        }
      ]
    },
    {
      "metadata": {
        "id": "UkRBEnX6MtzZ",
        "colab_type": "code",
        "colab": {}
      },
      "cell_type": "code",
      "source": [
        ""
      ],
      "execution_count": 0,
      "outputs": []
    }
  ]
}